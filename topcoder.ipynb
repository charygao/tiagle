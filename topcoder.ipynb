{
 "cells": [
  {
   "cell_type": "markdown",
   "metadata": {},
   "source": [
    "https://community.topcoder.com/stat?c=problem_statement&pm=6011\n",
    "\n",
    "We have a pile of crates at our warehouse that we want to load onto trucks. Our plan is to divide the pile in half forming two smaller piles, then continuing dividing each of the small piles in half until we get piles that will fit on a truck. (Of course, when we divide an odd number of crates in \"half\", one of the resulting piles will have one more crate than the other.) Our problem is to determine how many trucks we will need to ship the crates.\n",
    "Create a class Truckloads that contains a method numTrucks that is given numCrates (the number of crates at the warehouse) and loadSize (the maximum number of crates that will fit in a truck) and that returns the number of trucks required.\n",
    "\n",
    " \n",
    "Definition\n",
    "        \n",
    "Class:  Truckloads\n",
    "Method: numTrucks\n",
    "Parameters: int, int\n",
    "Returns:    int\n",
    "Method signature:   int numTrucks(int numCrates, int loadSize)\n",
    "(be sure your method is public)\n",
    "    \n",
    " \n",
    "Constraints\n",
    "-   numCrates will be between 2 and 10,000, inclusive.\n",
    "-   loadSize loadSize will be be between 1 and (numCrates - 1), inclusive.\n",
    " \n",
    "Examples\n",
    "0)  \n",
    "        \n",
    "14\n",
    "3\n",
    "Returns: 6\n",
    "After the first division we have two piles each with 7 crates. Each of these piles must be divided giving us 2 piles of 3 and 2 piles of 4. The piles with 4 crates must be further divided giving us 2 piles of 3 and 4 piles of 2. Each of these piles fits into a truck, so we need 6 trucks.\n",
    "1)  \n",
    "        \n",
    "15\n",
    "1\n",
    "Returns: 15\n",
    "We will eventually end up with 15 piles, each with just 1 crate.\n",
    "2)  \n",
    "        \n",
    "1024\n",
    "5\n",
    "Returns: 256\n",
    "1024 divides in half very nicely. We eventually end up with 256 piles, each containing 4 crates.\n"
   ]
  },
  {
   "cell_type": "code",
   "execution_count": null,
   "metadata": {
    "collapsed": false
   },
   "outputs": [],
   "source": [
    "class TruckLoads(object):\n",
    "    \n",
    "    \"\"\"Class track number of trucks.\"\"\"\n",
    "\n",
    "    def __init__(self):\n",
    "        \"\"\"Initialize the count of trucks.\"\"\"\n",
    "        self.trucks = 0\n",
    "        self.initial = 0\n",
    "    \n",
    "    def numtrucks(self, crates, load):\n",
    "        \"\"\"Compute trucks needed to load crates.\"\"\"\n",
    "        if self.initial == 0:\n",
    "            crates_error = \"Crates must be between 2 and 10,000, inclusive.\"\n",
    "            load_error = \"Load must be between 1 and (crates - 1).\"\n",
    "            if crates < 2 or crates >= 10000: raise ValueError(crates_error)\n",
    "            if load < 1 or load >= (crates - 1): raise ValueError(load_error)\n",
    "            self.initial = crates\n",
    "        if load >= crates:\n",
    "            self.trucks += 1\n",
    "        else:\n",
    "            self.numtrucks(int(crates / 2) , load)\n",
    "            self.numtrucks(int(crates / 2) + crates % 2, load)\n",
    "        if crates == self.initial:\n",
    "            trucks = self.trucks\n",
    "            self.__init__()\n",
    "            return trucks"
   ]
  },
  {
   "cell_type": "code",
   "execution_count": null,
   "metadata": {
    "collapsed": false
   },
   "outputs": [],
   "source": [
    "loader = TruckLoads()\n",
    "print(loader.numtrucks(14, 3))\n",
    "print(loader.numtrucks(15, 1))\n",
    "print(loader.numtrucks(1024, 5))"
   ]
  },
  {
   "cell_type": "markdown",
   "metadata": {
    "collapsed": true
   },
   "source": [
    "https://community.topcoder.com/stat?c=problem_statement&pm=10547\n",
    "\n",
    "Problem Statement\n",
    "    \tLet f(x) be the greatest odd divisor of x, where x is a positive integer. You are given a positive integer N. Return f(1)+f(2)+?+f(N).\n",
    " \n",
    "Definition\n",
    "    \t\n",
    "Class:\tOddDivisors\n",
    "Method:\tfindSum\n",
    "Parameters:\tint\n",
    "Returns:\tlong\n",
    "Method signature:\tlong findSum(int N)\n",
    "(be sure your method is public)\n",
    "    \n",
    " \n",
    "Constraints\n",
    "-\tN will be between 1 and 1000000000, inclusive.\n",
    " \n",
    "Examples\n",
    "0)\t\n",
    "    \t\n",
    "7\n",
    "Returns: 21\n",
    "f(1)+f(2)+f(3)+f(4)+f(5)+f(6)+f(7)=1+1+3+1+5+3+7=21\n",
    "1)\t\n",
    "    \t\n",
    "1\n",
    "Returns: 1\n",
    "2)\t\n",
    "    \t\n",
    "777\n",
    "Returns: 201537\n"
   ]
  },
  {
   "cell_type": "code",
   "execution_count": null,
   "metadata": {
    "collapsed": true
   },
   "outputs": [],
   "source": [
    "class OddDivisors(object):\n",
    "    \n",
    "    \"\"\"Sum of odd divisors.\"\"\"\n",
    "    \n",
    "    def find_sum(self, n):\n",
    "#         print(n, int((n+1)/2)**2)\n",
    "        if n == 0: return 0\n",
    "        return int((n+1)/2)**2 + self.find_sum(int(n/2))"
   ]
  },
  {
   "cell_type": "code",
   "execution_count": null,
   "metadata": {
    "collapsed": false
   },
   "outputs": [],
   "source": [
    "divisor = OddDivisors()\n",
    "print(divisor.find_sum(7) == 21)\n",
    "print(divisor.find_sum(1) == 1)\n",
    "print(divisor.find_sum(777) == 201537)\n",
    "print(divisor.find_sum(1000000000) == 333333333334181226)\n",
    "print(divisor.find_sum(999999999) == 333333333332228101)\n",
    "print(divisor.find_sum(328) == 35878)\n",
    "print(divisor.find_sum(682) == 155194)\n",
    "print(divisor.find_sum(790) == 208250)\n",
    "print(divisor.find_sum(675) == 152223)\n",
    "print(divisor.find_sum(394) == 51830)\n",
    "print(divisor.find_sum(12571) == 52683771)\n",
    "print(divisor.find_sum(95176) == 3019495236)\n",
    "print(divisor.find_sum(32088) == 343215484)\n",
    "print(divisor.find_sum(11859) == 46884881)\n",
    "print(divisor.find_sum(77610) == 2007787872)\n",
    "print(divisor.find_sum(42066) == 589857576)\n",
    "print(divisor.find_sum(85768) == 2452053728)\n",
    "print(divisor.find_sum(14176) == 66986582)\n",
    "print(divisor.find_sum(45224) == 681739206)\n",
    "print(divisor.find_sum(50542) == 851513538)\n",
    "print(divisor.find_sum(939977424) == 294519185904320510)\n",
    "print(divisor.find_sum(704387306) == 165387159111074046)\n",
    "print(divisor.find_sum(914360241) == 278684883778351235)\n",
    "print(divisor.find_sum(907119090) == 274288348002106490)\n",
    "print(divisor.find_sum(368375588) == 45233524646880100)\n",
    "print(divisor.find_sum(458647306) == 70119117196979106)\n",
    "print(divisor.find_sum(266122812) == 23607117064139852)\n",
    "print(divisor.find_sum(259408181) == 22430868239780363)\n",
    "print(divisor.find_sum(227989863) == 17326459347169793)\n",
    "print(divisor.find_sum(666671192) == 148150159459544002)\n",
    "print(divisor.find_sum(535722582) == 95666228436645486)\n",
    "print(divisor.find_sum(739788206) == 182428863472190212)\n",
    "print(divisor.find_sum(206200429) == 14172872404581673)\n",
    "print(divisor.find_sum(889914681) == 263982713516094237)\n",
    "print(divisor.find_sum(567173363) == 107228541538022371)\n",
    "print(divisor.find_sum(2) == 2)\n",
    "print(divisor.find_sum(3) == 5)\n",
    "print(divisor.find_sum(4) == 6)\n",
    "print(divisor.find_sum(5) == 11)\n",
    "print(divisor.find_sum(6) == 14)\n",
    "print(divisor.find_sum(8) == 22)\n",
    "print(divisor.find_sum(9) == 31)\n",
    "print(divisor.find_sum(536870912) == 96076792050570582)\n",
    "print(divisor.find_sum(536870911) == 96076792050570581)\n",
    "print(divisor.find_sum(536870913) == 96076792587441495)\n",
    "print(divisor.find_sum(999898469) == 333265649870347453)\n",
    "print(divisor.find_sum(11000000) == 40333333422394)\n",
    "print(divisor.find_sum(999586148) == 333057489191684940)\n",
    "print(divisor.find_sum(999999989) == 333333326457228137)\n",
    "print(divisor.find_sum(110000000) == 4033333333886606)\n",
    "print(divisor.find_sum(99999999) == 3333333333080737)\n",
    "print(divisor.find_sum(100000000) == 3333333333471362)\n",
    "print(divisor.find_sum(999999997) == 333333331832228103)\n",
    "print(divisor.find_sum(900000000) == 270000000001383796)\n",
    "print(divisor.find_sum(987654321) == 325153686292870545)\n",
    "print(divisor.find_sum(999688885) == 333125956048712835)\n",
    "print(divisor.find_sum(999999998) == 333333332332228102)\n",
    "print(divisor.find_sum(999999996) == 333333330832228106)\n",
    "print(divisor.find_sum(2356725) == 1851385320119)"
   ]
  },
  {
   "cell_type": "code",
   "execution_count": null,
   "metadata": {
    "collapsed": true
   },
   "outputs": [],
   "source": []
  }
 ],
 "metadata": {
  "kernelspec": {
   "display_name": "Python 3",
   "language": "python",
   "name": "python3"
  },
  "language_info": {
   "codemirror_mode": {
    "name": "ipython",
    "version": 3
   },
   "file_extension": ".py",
   "mimetype": "text/x-python",
   "name": "python",
   "nbconvert_exporter": "python",
   "pygments_lexer": "ipython3",
   "version": "3.5.0"
  }
 },
 "nbformat": 4,
 "nbformat_minor": 0
}
