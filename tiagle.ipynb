{
 "cells": [
  {
   "cell_type": "code",
   "execution_count": 3,
   "metadata": {
    "collapsed": false
   },
   "outputs": [
    {
     "name": "stdout",
     "output_type": "stream",
     "text": [
      "Using matplotlib backend: MacOSX\n"
     ]
    }
   ],
   "source": [
    "import math\n",
    "import statistics \n",
    "import random\n",
    "import itertools\n",
    "import heapq\n",
    "import string\n",
    "import queue\n",
    "import matplotlib.pyplot as plt\n",
    "import networkx as nx\n",
    "%matplotlib\n",
    "# list(itertools.product([100, 110, 130], [50, 75, 125]))"
   ]
  },
  {
   "cell_type": "code",
   "execution_count": 6,
   "metadata": {
    "collapsed": false
   },
   "outputs": [
    {
     "data": {
      "text/plain": [
       "30.0"
      ]
     },
     "execution_count": 6,
     "metadata": {},
     "output_type": "execute_result"
    }
   ],
   "source": [
    "def GetMaximumProfit(data):\n",
    "    \"\"\"Return maximum profit possible from data.\"\"\"\n",
    "    n = len(data)\n",
    "    maxprofit = -1\n",
    "\n",
    "    for i, buy in enumerate(data):\n",
    "        for sell in data[i + 1:]:\n",
    "            if sell - buy > maxprofit:\n",
    "                maxprofit = sell - buy\n",
    "\n",
    "    return maxprofit \n",
    "\n",
    "GetMaximumProfit([700.0, 710.0, 690.0, 720.0, 680.0, 700.0])"
   ]
  },
  {
   "cell_type": "code",
   "execution_count": 1,
   "metadata": {
    "collapsed": false
   },
   "outputs": [
    {
     "data": {
      "text/plain": [
       "30.0"
      ]
     },
     "execution_count": 1,
     "metadata": {},
     "output_type": "execute_result"
    }
   ],
   "source": [
    "def GetMaximumProfitImproved(data):\n",
    "        \"\"\"Return maximum profit possible from data.\"\"\"\n",
    "        n = len(data)\n",
    "        maxprofit = -1\n",
    "        minbuy = data[0]\n",
    "\n",
    "        for sell in data[1:]:\n",
    "\n",
    "            if sell - minbuy > maxprofit:\n",
    "                maxprofit = sell - minbuy\n",
    "\n",
    "            if sell < minbuy:\n",
    "                minbuy = sell\n",
    "\n",
    "        return maxprofit \n",
    "    \n",
    "GetMaximumProfitImproved([700.0, 710.0, 690.0, 720.0, 680.0, 700.0])"
   ]
  },
  {
   "cell_type": "markdown",
   "metadata": {},
   "source": []
  }
 ],
 "metadata": {
  "kernelspec": {
   "display_name": "Python 3",
   "language": "python",
   "name": "python3"
  },
  "language_info": {
   "codemirror_mode": {
    "name": "ipython",
    "version": 3
   },
   "file_extension": ".py",
   "mimetype": "text/x-python",
   "name": "python",
   "nbconvert_exporter": "python",
   "pygments_lexer": "ipython3",
   "version": "3.5.0"
  }
 },
 "nbformat": 4,
 "nbformat_minor": 0
}
