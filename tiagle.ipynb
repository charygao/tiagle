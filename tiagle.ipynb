{
 "cells": [
  {
   "cell_type": "code",
   "execution_count": 3,
   "metadata": {
    "collapsed": false
   },
   "outputs": [
    {
     "name": "stdout",
     "output_type": "stream",
     "text": [
      "Using matplotlib backend: MacOSX\n"
     ]
    }
   ],
   "source": [
    "import math\n",
    "import statistics \n",
    "import random\n",
    "import itertools\n",
    "import heapq\n",
    "import string\n",
    "import queue\n",
    "import matplotlib.pyplot as plt\n",
    "import networkx as nx\n",
    "%matplotlib\n",
    "# list(itertools.product([100, 110, 130], [50, 75, 125]))"
   ]
  },
  {
   "cell_type": "code",
   "execution_count": 8,
   "metadata": {
    "collapsed": false
   },
   "outputs": [
    {
     "data": {
      "text/plain": [
       "30.0"
      ]
     },
     "execution_count": 8,
     "metadata": {},
     "output_type": "execute_result"
    }
   ],
   "source": [
    "def GetMaximumProfit(data):\n",
    "    \"\"\"\n",
    "    Return maximum possible profit from ``data`` (complexity: N^2).\n",
    "    \n",
    "    Arguments:\n",
    "        data (list): Time series of a given stock price.\n",
    "    \"\"\"\n",
    "    maxprofit = 0.0\n",
    "    \n",
    "    # Return 0 when data is empty.\n",
    "    if not data: return maxprofit\n",
    "    \n",
    "    for i, buy in enumerate(data):\n",
    "        \n",
    "        # Handles None values.\n",
    "        if buy is None: continue\n",
    "        \n",
    "        for sell in data[i + 1:]:\n",
    "            \n",
    "            # Handles None values.\n",
    "            if sell is None: continue\n",
    "            \n",
    "            if sell - buy > maxprofit:\n",
    "                maxprofit = sell - buy\n",
    "\n",
    "    return maxprofit \n",
    "\n",
    "GetMaximumProfit([700.0, None, 710.0, 690.0, 720.0, 680.0, 700.0])"
   ]
  },
  {
   "cell_type": "code",
   "execution_count": 6,
   "metadata": {
    "collapsed": false
   },
   "outputs": [
    {
     "data": {
      "text/plain": [
       "0"
      ]
     },
     "execution_count": 6,
     "metadata": {},
     "output_type": "execute_result"
    }
   ],
   "source": [
    "def GetMaximumProfitImproved(data):\n",
    "    \"\"\"\n",
    "    Return maximum possible profit from ``data`` (complexity: N).\n",
    "    \n",
    "    Arguments:\n",
    "        data (list): Time series of a given stock price.\n",
    "    \"\"\"\n",
    "    maxprofit = 0.0\n",
    "    minbuy = None\n",
    "    \n",
    "    # Return 0 when data is empty.\n",
    "    if not data: return maxprofit\n",
    "    \n",
    "    for sell in data:\n",
    "\n",
    "        # Handles None values.\n",
    "        if sell is None: continue\n",
    "        if minbuy is None: minbuy = sell\n",
    "        \n",
    "        if sell - minbuy > maxprofit:\n",
    "            maxprofit = sell - minbuy\n",
    "\n",
    "        if sell < minbuy:\n",
    "            minbuy = sell\n",
    "\n",
    "    return maxprofit \n",
    "    \n",
    "GetMaximumProfitImproved([700.0, 710.0, 690.0, 720.0, 680.0, 700.0])"
   ]
  },
  {
   "cell_type": "code",
   "execution_count": 13,
   "metadata": {
    "collapsed": false
   },
   "outputs": [
    {
     "name": "stdout",
     "output_type": "stream",
     "text": [
      "True\n",
      "True\n"
     ]
    }
   ],
   "source": [
    "\n",
    "\"\"\"\n",
    "Improvements to interview problem.\n",
    "\n",
    "    * maxprofit is now initialized in 0.0, therefore if there is not possible\n",
    "      profit at all, zero would be returned.\n",
    "\n",
    "    * solutions now handle the situation where the input array is empty.\n",
    "\n",
    "    * solutions can deal with None values contained in the input array.\n",
    "\"\"\"\n",
    "\n",
    "\n",
    "def GetMaximumProfit(data):\n",
    "    \"\"\"\n",
    "    Return maximum possible profit from ``data`` (complexity: N^2).\n",
    "\n",
    "    Arguments:\n",
    "        data (list): Time series of a given stock price.\n",
    "    \"\"\"\n",
    "    maxprofit = 0.0\n",
    "\n",
    "    # Return 0 when data is empty.\n",
    "    if not data: return maxprofit\n",
    "\n",
    "    for i, buy in enumerate(data):\n",
    "\n",
    "        # Handles None values.\n",
    "        if buy is None: continue\n",
    "\n",
    "        for sell in data[i + 1:]:\n",
    "\n",
    "            # Handles None values.\n",
    "            if sell is None: continue\n",
    "\n",
    "            if sell - buy > maxprofit:\n",
    "                maxprofit = sell - buy\n",
    "\n",
    "    return maxprofit\n",
    "\n",
    "\n",
    "def GetMaximumProfitImproved(data):\n",
    "    \"\"\"\n",
    "    Return maximum possible profit from ``data`` (complexity: N).\n",
    "\n",
    "    Arguments:\n",
    "        data (list): Time series of a given stock price.\n",
    "    \"\"\"\n",
    "    maxprofit = 0.0\n",
    "    minbuy = None\n",
    "\n",
    "    # Return 0 when data is empty.\n",
    "    if not data: return maxprofit\n",
    "\n",
    "    for sell in data:\n",
    "\n",
    "        # Handles None values.\n",
    "        if sell is None: continue\n",
    "        if minbuy is None: minbuy = sell\n",
    "\n",
    "        if sell - minbuy > maxprofit:\n",
    "            maxprofit = sell - minbuy\n",
    "\n",
    "        if sell < minbuy:\n",
    "            minbuy = sell\n",
    "\n",
    "    return maxprofit\n",
    "\n",
    "\n",
    "test = [700.0, None, 710.0, 690.0, 720.0, 680.0, 700.0]\n",
    "print(GetMaximumProfit(test) == 30.0)\n",
    "print(GetMaximumProfitImproved(test) == 30.0)\n"
   ]
  },
  {
   "cell_type": "markdown",
   "metadata": {},
   "source": []
  }
 ],
 "metadata": {
  "kernelspec": {
   "display_name": "Python 3",
   "language": "python",
   "name": "python3"
  },
  "language_info": {
   "codemirror_mode": {
    "name": "ipython",
    "version": 3
   },
   "file_extension": ".py",
   "mimetype": "text/x-python",
   "name": "python",
   "nbconvert_exporter": "python",
   "pygments_lexer": "ipython3",
   "version": "3.5.0"
  }
 },
 "nbformat": 4,
 "nbformat_minor": 0
}
