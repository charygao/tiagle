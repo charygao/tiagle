{
 "cells": [
  {
   "cell_type": "code",
   "execution_count": 38,
   "metadata": {
    "collapsed": true
   },
   "outputs": [],
   "source": [
    "import math\n",
    "import statistics \n",
    "import random"
   ]
  },
  {
   "cell_type": "markdown",
   "metadata": {},
   "source": [
    "# Hash table"
   ]
  },
  {
   "cell_type": "markdown",
   "metadata": {},
   "source": [
    "Extra\n",
    "\n",
    "If there are too many inputs, the load factor (number of inputs divided by table size) becomes too large, too many inputs will be inserted into one index and the table will become slow, that is, the time complexity will increase. We aim for a  O(1)  time complexity for a table.\n",
    "\n",
    "Load factor  α=n/k  should be low.  n  is the number of inputs and  k  is the table size.\n",
    "\n",
    "If the number of inputs exceeds a particular threshold, we use techniques like table doubling to reduce the load factor.\n",
    "\n",
    "### load factor\n",
    "\n",
    "An instance of HashMap has two parameters that affect its performance: initial capacity and load factor. The capacity is the number of buckets in the hash table, and the initial capacity is simply the capacity at the time the hash table is created. The load factor is a measure of how full the hash table is allowed to get before its capacity is automatically increased. When the number of entries in the hash table exceeds the product of the load factor and the current capacity, the hash table is rehashed (that is, internal data structures are rebuilt) so that the hash table has approximately twice the number of buckets.\n",
    "\n",
    "As a general rule, the default load factor (.75) offers a good tradeoff between time and space costs. Higher values decrease the space overhead but increase the lookup cost (reflected in most of the operations of the HashMap class, including get and put). The expected number of entries in the map and its load factor should be taken into account when setting its initial capacity, so as to minimize the number of rehash operations. If the initial capacity is greater than the maximum number of entries divided by the load factor, no rehash operations will ever occur."
   ]
  },
  {
   "cell_type": "code",
   "execution_count": null,
   "metadata": {
    "code_folding": [
     0
    ],
    "collapsed": false
   },
   "outputs": [],
   "source": [
    "class Table(object):\n",
    "    \n",
    "    \"\"\"A simple implementation of a hash table.\"\"\"\n",
    "    \n",
    "    def __init__(self, buckets=10):\n",
    "        \"\"\"Set table initial capacity.\"\"\"\n",
    "        self.buckets = buckets\n",
    "        self.table = [[] for i in range(self.buckets)]\n",
    "       \n",
    "    @property\n",
    "    def load_factor(self):\n",
    "        \"\"\"Compute current load_factor\"\"\"\n",
    "        return self.entries / self.buckets\n",
    "    \n",
    "    @property\n",
    "    def entries(self):\n",
    "        \"\"\"Compute current load_factor\"\"\"\n",
    "        return sum([len(bucket) for bucket in self.table])\n",
    "    \n",
    "    \n",
    "    def __str__(self):\n",
    "        \"\"\"Return a representation of the table.\"\"\"\n",
    "        return self.__repr__()\n",
    "            \n",
    "    def __repr__(self):\n",
    "        string = \"\"\n",
    "        for bucket in self.table:\n",
    "            string += \"\".join([\"'%s': %s, \" % p for p in bucket])\n",
    "        return \"{%s}\" % string\n",
    "            \n",
    "    def get_bucket(self, key):\n",
    "        \"\"\"get bucket for a given key.\"\"\"\n",
    "        return hash(key) % self.buckets\n",
    "        \n",
    "    def generate(self):\n",
    "        \"\"\"\"Generate table given \"\"\"\n",
    "        old = self.table\n",
    "        self.buckets = 2 * self.buckets\n",
    "        self.table = [[] for i in range(self.buckets)]\n",
    "        for bucket in old:\n",
    "            for key, value in bucket:\n",
    "                self.insert(key, value)\n",
    "        \n",
    "    def insert(self, key, value):\n",
    "        \"\"\"Insert a new key-value pair.\"\"\"\n",
    "        bucket = self.get_bucket(key)\n",
    "        self.table[bucket].append((key, value))\n",
    "        if self.load_factor > 0.75: self.generate()\n",
    "        \n",
    "    def get(self, key):\n",
    "        \"\"\"Get value for a given key.\"\"\"\n",
    "        bucket = self.get_bucket(key)\n",
    "        for key, value in self.table[bucket]:\n",
    "            if key == key:\n",
    "                return value\n",
    "\n",
    "    def pop(self, key):\n",
    "        \"\"\"Remove key value pair.\"\"\"\n",
    "        bucket = self.get_bucket(key)\n",
    "        for i, pair in enumerate(self.table[bucket]):\n",
    "            if key == pair[0]:\n",
    "                self.table[bucket].pop(i)\n",
    "                self.entries -= 1\n",
    "        "
   ]
  },
  {
   "cell_type": "code",
   "execution_count": null,
   "metadata": {
    "code_folding": [],
    "collapsed": false
   },
   "outputs": [],
   "source": [
    "table = Table()\n",
    "for i in range(100):\n",
    "    table.insert(i, i)\n",
    "# table"
   ]
  },
  {
   "cell_type": "markdown",
   "metadata": {},
   "source": [
    "# Quick Sort\n",
    "![title](images/quicksort.png)"
   ]
  },
  {
   "cell_type": "code",
   "execution_count": 47,
   "metadata": {
    "collapsed": false
   },
   "outputs": [
    {
     "name": "stdout",
     "output_type": "stream",
     "text": [
      "[17, 20, 26, 31, 44, 54, 55, 77, 93]\n"
     ]
    }
   ],
   "source": [
    "def qsort(array):\n",
    "    \"\"\"Sort array using quick sort.\"\"\"\n",
    "    less, equal, greater = [], [], []\n",
    "\n",
    "    if len(array) > 1:\n",
    "        pivot = array[0]\n",
    "        for x in array:\n",
    "            if x < pivot:\n",
    "                less.append(x)\n",
    "            if x == pivot:\n",
    "                equal.append(x)\n",
    "            if x > pivot:\n",
    "                greater.append(x)\n",
    "\n",
    "        # Don't forget to return something!\n",
    "        # Note that you want equal, not pivot\n",
    "        return qsort(less) + equal + qsort(greater)\n",
    "    \n",
    "    # when you only have one element in your array\n",
    "    # just return the array.\n",
    "    else:\n",
    "        return array\n",
    "\n",
    "array = [54,26,93,17,77,31,44,55,20]\n",
    "print(qsort(array))"
   ]
  },
  {
   "cell_type": "markdown",
   "metadata": {
    "collapsed": true
   },
   "source": [
    "# Merge Sort"
   ]
  },
  {
   "cell_type": "code",
   "execution_count": 48,
   "metadata": {
    "collapsed": false
   },
   "outputs": [
    {
     "name": "stdout",
     "output_type": "stream",
     "text": [
      "split [54, 26, 93, 17, 77, 31, 44, 55, 2, 34, 7, 464]\n",
      "split [54, 26, 93, 17, 77, 31]\n",
      "split [54, 26, 93]\n",
      "split [26, 93]\n",
      "split [17, 77, 31]\n",
      "split [77, 31]\n",
      "merging [26, 54, 93] [17, 31, 77]\n",
      "split [44, 55, 2, 34, 7, 464]\n",
      "split [44, 55, 2]\n",
      "split [55, 2]\n",
      "split [34, 7, 464]\n",
      "split [7, 464]\n",
      "merging [2, 44, 55] [7, 34, 464]\n",
      "merging [17, 26, 31, 54, 77, 93] [2, 7, 34, 44, 55, 464]\n",
      "[2, 7, 17, 26, 31, 34, 44, 54, 55, 77, 93, 464]\n"
     ]
    }
   ],
   "source": [
    "def msort(array):\n",
    "    \"\"\"Sort array using merge sort.\"\"\"\n",
    "    # print message to learn\n",
    "    if len(array) > 1: print(\"split\", array)\n",
    "\n",
    "    # if len of array is 1 or 0, return array.    \n",
    "    if len(array) < 2:return array\n",
    "    \n",
    "    result, mid = [], int(len(array) / 2)\n",
    "    l, r = msort(array[:mid]), msort(array[mid:])\n",
    "    i, j = 0, 0\n",
    "    while i < len(l) and j < len(r):\n",
    "            if l[i] > r[j]:\n",
    "                result.append(r[j])\n",
    "                j += 1\n",
    "            else:\n",
    "                result.append(l[i])\n",
    "                i += 1\n",
    "\n",
    "    # print message to learn.\n",
    "    if len(result) > 2: print(\"merging\", l, r)\n",
    "    return result + l[i:] + r[j:]\n",
    "\n",
    "\n",
    "l = [54,26,93,17,77,31,44,55,2,34,7,464]\n",
    "print(msort(l))"
   ]
  },
  {
   "cell_type": "code",
   "execution_count": null,
   "metadata": {
    "collapsed": true
   },
   "outputs": [],
   "source": []
  },
  {
   "cell_type": "code",
   "execution_count": 43,
   "metadata": {
    "collapsed": false
   },
   "outputs": [],
   "source": [
    "random.randint?"
   ]
  },
  {
   "cell_type": "code",
   "execution_count": null,
   "metadata": {
    "collapsed": true
   },
   "outputs": [],
   "source": []
  }
 ],
 "metadata": {
  "kernelspec": {
   "display_name": "Python 3",
   "language": "python",
   "name": "python3"
  },
  "language_info": {
   "codemirror_mode": {
    "name": "ipython",
    "version": 3
   },
   "file_extension": ".py",
   "mimetype": "text/x-python",
   "name": "python",
   "nbconvert_exporter": "python",
   "pygments_lexer": "ipython3",
   "version": "3.5.0"
  }
 },
 "nbformat": 4,
 "nbformat_minor": 0
}
